{
 "cells": [
  {
   "cell_type": "code",
   "execution_count": 1,
   "id": "79a902af-c0f0-441f-95ea-08eaa63049da",
   "metadata": {
    "execution": {
     "iopub.execute_input": "2022-11-02T20:39:11.760572Z",
     "iopub.status.busy": "2022-11-02T20:39:11.760335Z",
     "iopub.status.idle": "2022-11-02T20:39:48.478632Z",
     "shell.execute_reply": "2022-11-02T20:39:48.477845Z",
     "shell.execute_reply.started": "2022-11-02T20:39:11.760547Z"
    },
    "tags": []
   },
   "outputs": [
    {
     "data": {
      "application/vnd.jupyter.widget-view+json": {
       "model_id": "48d8741620594e7a842084d1cb7add09",
       "version_major": 2,
       "version_minor": 0
      },
      "text/plain": [
       "VBox()"
      ]
     },
     "metadata": {},
     "output_type": "display_data"
    },
    {
     "name": "stdout",
     "output_type": "stream",
     "text": [
      "Starting Spark application\n"
     ]
    },
    {
     "data": {
      "text/html": [
       "<table>\n",
       "<tr><th>ID</th><th>YARN Application ID</th><th>Kind</th><th>State</th><th>Spark UI</th><th>Driver log</th><th>User</th><th>Current session?</th></tr><tr><td>5</td><td>application_1667420043681_0006</td><td>pyspark</td><td>idle</td><td><a target=\"_blank\" href=\"http://ip-172-31-0-246.ec2.internal:20888/proxy/application_1667420043681_0006/\" class=\"emr-proxy-link\" emr-resource=\"j-X5I9DXS4WDDZ\n",
       "\" application-id=\"application_1667420043681_0006\">Link</a></td><td><a target=\"_blank\" href=\"http://ip-172-31-11-87.ec2.internal:8042/node/containerlogs/container_1667420043681_0006_01_000001/livy\" >Link</a></td><td>None</td><td>✔</td></tr></table>"
      ],
      "text/plain": [
       "<IPython.core.display.HTML object>"
      ]
     },
     "metadata": {},
     "output_type": "display_data"
    },
    {
     "data": {
      "application/vnd.jupyter.widget-view+json": {
       "model_id": "",
       "version_major": 2,
       "version_minor": 0
      },
      "text/plain": [
       "FloatProgress(value=0.0, bar_style='info', description='Progress:', layout=Layout(height='25px', width='50%'),…"
      ]
     },
     "metadata": {},
     "output_type": "display_data"
    },
    {
     "name": "stdout",
     "output_type": "stream",
     "text": [
      "SparkSession available as 'spark'.\n"
     ]
    },
    {
     "data": {
      "application/vnd.jupyter.widget-view+json": {
       "model_id": "",
       "version_major": 2,
       "version_minor": 0
      },
      "text/plain": [
       "FloatProgress(value=0.0, bar_style='info', description='Progress:', layout=Layout(height='25px', width='50%'),…"
      ]
     },
     "metadata": {},
     "output_type": "display_data"
    }
   ],
   "source": [
    "from pyspark.sql import functions as f"
   ]
  },
  {
   "cell_type": "code",
   "execution_count": 2,
   "id": "2832d8eb-fa9b-4330-90a0-00427818c92f",
   "metadata": {
    "execution": {
     "iopub.execute_input": "2022-11-02T20:39:48.484391Z",
     "iopub.status.busy": "2022-11-02T20:39:48.484137Z",
     "iopub.status.idle": "2022-11-02T20:41:12.075453Z",
     "shell.execute_reply": "2022-11-02T20:41:12.074781Z",
     "shell.execute_reply.started": "2022-11-02T20:39:48.484355Z"
    },
    "tags": []
   },
   "outputs": [
    {
     "data": {
      "application/vnd.jupyter.widget-view+json": {
       "model_id": "f967952b7fe446828153c227004eb347",
       "version_major": 2,
       "version_minor": 0
      },
      "text/plain": [
       "VBox()"
      ]
     },
     "metadata": {},
     "output_type": "display_data"
    },
    {
     "data": {
      "application/vnd.jupyter.widget-view+json": {
       "model_id": "",
       "version_major": 2,
       "version_minor": 0
      },
      "text/plain": [
       "FloatProgress(value=0.0, bar_style='info', description='Progress:', layout=Layout(height='25px', width='50%'),…"
      ]
     },
     "metadata": {},
     "output_type": "display_data"
    }
   ],
   "source": [
    "viagens = (\n",
    "    spark\n",
    "    .read\n",
    "    .csv(\"s3://puc-trabalho-final-landing-zone-104346215011/train.csv\", sep= ',', header=True, inferSchema=True)\n",
    ")"
   ]
  },
  {
   "cell_type": "code",
   "execution_count": 3,
   "id": "1c6ab567-95d4-4bed-a965-0cab0f010585",
   "metadata": {
    "execution": {
     "iopub.execute_input": "2022-11-02T20:41:12.077484Z",
     "iopub.status.busy": "2022-11-02T20:41:12.077211Z",
     "iopub.status.idle": "2022-11-02T20:41:12.344172Z",
     "shell.execute_reply": "2022-11-02T20:41:12.343484Z",
     "shell.execute_reply.started": "2022-11-02T20:41:12.077445Z"
    },
    "tags": []
   },
   "outputs": [
    {
     "data": {
      "application/vnd.jupyter.widget-view+json": {
       "model_id": "058672430d82493cb83ecab9569eebcc",
       "version_major": 2,
       "version_minor": 0
      },
      "text/plain": [
       "VBox()"
      ]
     },
     "metadata": {},
     "output_type": "display_data"
    },
    {
     "data": {
      "application/vnd.jupyter.widget-view+json": {
       "model_id": "",
       "version_major": 2,
       "version_minor": 0
      },
      "text/plain": [
       "FloatProgress(value=0.0, bar_style='info', description='Progress:', layout=Layout(height='25px', width='50%'),…"
      ]
     },
     "metadata": {},
     "output_type": "display_data"
    }
   ],
   "source": [
    "viagens = (\n",
    "    viagens\n",
    "    .select(f.col('Gender').alias('sexo'), \n",
    "            f.col('Type of Travel').alias('tipo_viagem'),\n",
    "            f.col('Class').alias('classe'), \n",
    "            f.col('Ease of Online booking').alias('satisfacao_reserva_online'), \n",
    "            f.col('Seat comfort').alias('satisfacao_conforto_assento'), \n",
    "            f.col('On-board service').alias('satisfacao_servico_bordo'))\n",
    ")"
   ]
  },
  {
   "cell_type": "code",
   "execution_count": 4,
   "id": "21eaf7b8-5df7-458e-9c72-91e6ef4000d7",
   "metadata": {
    "execution": {
     "iopub.execute_input": "2022-11-02T20:41:12.345375Z",
     "iopub.status.busy": "2022-11-02T20:41:12.345189Z",
     "iopub.status.idle": "2022-11-02T20:41:13.114855Z",
     "shell.execute_reply": "2022-11-02T20:41:13.114180Z",
     "shell.execute_reply.started": "2022-11-02T20:41:12.345352Z"
    },
    "tags": []
   },
   "outputs": [
    {
     "data": {
      "application/vnd.jupyter.widget-view+json": {
       "model_id": "211fb98588f142229f7c1a97b890087d",
       "version_major": 2,
       "version_minor": 0
      },
      "text/plain": [
       "VBox()"
      ]
     },
     "metadata": {},
     "output_type": "display_data"
    },
    {
     "data": {
      "application/vnd.jupyter.widget-view+json": {
       "model_id": "",
       "version_major": 2,
       "version_minor": 0
      },
      "text/plain": [
       "FloatProgress(value=0.0, bar_style='info', description='Progress:', layout=Layout(height='25px', width='50%'),…"
      ]
     },
     "metadata": {},
     "output_type": "display_data"
    },
    {
     "name": "stdout",
     "output_type": "stream",
     "text": [
      "+------+---------------+--------+-------------------------+---------------------------+------------------------+\n",
      "|  sexo|    tipo_viagem|  classe|satisfacao_reserva_online|satisfacao_conforto_assento|satisfacao_servico_bordo|\n",
      "+------+---------------+--------+-------------------------+---------------------------+------------------------+\n",
      "|  Male|Personal Travel|Eco Plus|                        3|                          5|                       4|\n",
      "|  Male|Business travel|Business|                        3|                          1|                       1|\n",
      "|Female|Business travel|Business|                        2|                          5|                       4|\n",
      "|Female|Business travel|Business|                        5|                          2|                       2|\n",
      "|  Male|Business travel|Business|                        3|                          5|                       3|\n",
      "|Female|Personal Travel|     Eco|                        2|                          1|                       3|\n",
      "|  Male|Personal Travel|     Eco|                        2|                          2|                       3|\n",
      "|Female|Business travel|Business|                        4|                          5|                       5|\n",
      "|Female|Business travel|Business|                        2|                          3|                       1|\n",
      "|  Male|Business travel|     Eco|                        3|                          3|                       2|\n",
      "|Female|Business travel|     Eco|                        5|                          2|                       3|\n",
      "|Female|Personal Travel|Eco Plus|                        2|                          1|                       1|\n",
      "|  Male|Business travel|     Eco|                        4|                          1|                       1|\n",
      "|  Male|Personal Travel|     Eco|                        4|                          4|                       4|\n",
      "|Female|Personal Travel|     Eco|                        3|                          2|                       4|\n",
      "|  Male|Business travel|     Eco|                        2|                          1|                       2|\n",
      "|Female|Business travel|Business|                        3|                          4|                       5|\n",
      "|  Male|Business travel|Business|                        2|                          4|                       5|\n",
      "|Female|Business travel|Business|                        4|                          5|                       5|\n",
      "|  Male|Personal Travel|     Eco|                        3|                          5|                       1|\n",
      "+------+---------------+--------+-------------------------+---------------------------+------------------------+\n",
      "only showing top 20 rows"
     ]
    }
   ],
   "source": [
    "viagens.show()"
   ]
  },
  {
   "cell_type": "code",
   "execution_count": 5,
   "id": "791fed61-8c85-43ae-aa03-e0f3df823700",
   "metadata": {
    "execution": {
     "iopub.execute_input": "2022-11-02T20:41:13.116047Z",
     "iopub.status.busy": "2022-11-02T20:41:13.115864Z",
     "iopub.status.idle": "2022-11-02T20:41:13.377700Z",
     "shell.execute_reply": "2022-11-02T20:41:13.376968Z",
     "shell.execute_reply.started": "2022-11-02T20:41:13.116025Z"
    },
    "tags": []
   },
   "outputs": [
    {
     "data": {
      "application/vnd.jupyter.widget-view+json": {
       "model_id": "f8eba1cb815043f8bc2348444ab59774",
       "version_major": 2,
       "version_minor": 0
      },
      "text/plain": [
       "VBox()"
      ]
     },
     "metadata": {},
     "output_type": "display_data"
    },
    {
     "data": {
      "application/vnd.jupyter.widget-view+json": {
       "model_id": "",
       "version_major": 2,
       "version_minor": 0
      },
      "text/plain": [
       "FloatProgress(value=0.0, bar_style='info', description='Progress:', layout=Layout(height='25px', width='50%'),…"
      ]
     },
     "metadata": {},
     "output_type": "display_data"
    }
   ],
   "source": [
    "df_ind_1 =(\n",
    "  viagens\n",
    "  .groupBy('sexo', 'tipo_viagem', 'classe')\n",
    "  .agg(\n",
    "      f.round(f.mean(\"satisfacao_reserva_online\"),2).alias(\"media_satisfacao_reserva_online\")\n",
    "  )\n",
    "  .orderBy('sexo')\n",
    ")"
   ]
  },
  {
   "cell_type": "code",
   "execution_count": 6,
   "id": "b501b8c9-84ef-4ec0-a833-c42003547f8c",
   "metadata": {
    "execution": {
     "iopub.execute_input": "2022-11-02T20:41:13.378951Z",
     "iopub.status.busy": "2022-11-02T20:41:13.378780Z",
     "iopub.status.idle": "2022-11-02T20:41:13.644559Z",
     "shell.execute_reply": "2022-11-02T20:41:13.643464Z",
     "shell.execute_reply.started": "2022-11-02T20:41:13.378929Z"
    },
    "tags": []
   },
   "outputs": [
    {
     "data": {
      "application/vnd.jupyter.widget-view+json": {
       "model_id": "090ba6024ced413388e4a262963d2b69",
       "version_major": 2,
       "version_minor": 0
      },
      "text/plain": [
       "VBox()"
      ]
     },
     "metadata": {},
     "output_type": "display_data"
    },
    {
     "data": {
      "application/vnd.jupyter.widget-view+json": {
       "model_id": "",
       "version_major": 2,
       "version_minor": 0
      },
      "text/plain": [
       "FloatProgress(value=0.0, bar_style='info', description='Progress:', layout=Layout(height='25px', width='50%'),…"
      ]
     },
     "metadata": {},
     "output_type": "display_data"
    }
   ],
   "source": [
    "df_ind_2 =(\n",
    "  viagens\n",
    "  .groupBy('sexo', 'tipo_viagem', 'classe')\n",
    "  .agg(\n",
    "      f.round(f.mean(\"satisfacao_conforto_assento\"),2).alias(\"media_satisfacao_conforto_assento\")\n",
    "  )\n",
    "  .orderBy('sexo')\n",
    ")"
   ]
  },
  {
   "cell_type": "code",
   "execution_count": 7,
   "id": "dae7cd51-8b72-4484-948c-07067079a5f4",
   "metadata": {
    "execution": {
     "iopub.execute_input": "2022-11-02T20:41:13.647759Z",
     "iopub.status.busy": "2022-11-02T20:41:13.647413Z",
     "iopub.status.idle": "2022-11-02T20:41:13.914665Z",
     "shell.execute_reply": "2022-11-02T20:41:13.913941Z",
     "shell.execute_reply.started": "2022-11-02T20:41:13.647718Z"
    },
    "tags": []
   },
   "outputs": [
    {
     "data": {
      "application/vnd.jupyter.widget-view+json": {
       "model_id": "bad9d328223447448f37bdd2f4c4e618",
       "version_major": 2,
       "version_minor": 0
      },
      "text/plain": [
       "VBox()"
      ]
     },
     "metadata": {},
     "output_type": "display_data"
    },
    {
     "data": {
      "application/vnd.jupyter.widget-view+json": {
       "model_id": "",
       "version_major": 2,
       "version_minor": 0
      },
      "text/plain": [
       "FloatProgress(value=0.0, bar_style='info', description='Progress:', layout=Layout(height='25px', width='50%'),…"
      ]
     },
     "metadata": {},
     "output_type": "display_data"
    }
   ],
   "source": [
    "df_ind_3 =(\n",
    "  viagens\n",
    "  .groupBy('sexo', 'tipo_viagem', 'classe')\n",
    "  .agg(\n",
    "      f.round(f.mean(\"satisfacao_servico_bordo\"),2).alias(\"media_satisfacao_servico_bordo\")\n",
    "  )\n",
    "  .orderBy('sexo')\n",
    ")"
   ]
  },
  {
   "cell_type": "code",
   "execution_count": 8,
   "id": "f1b3ee5f-2067-4815-9935-684ae0058734",
   "metadata": {
    "execution": {
     "iopub.execute_input": "2022-11-02T20:41:13.916298Z",
     "iopub.status.busy": "2022-11-02T20:41:13.916041Z",
     "iopub.status.idle": "2022-11-02T20:41:23.309943Z",
     "shell.execute_reply": "2022-11-02T20:41:23.308924Z",
     "shell.execute_reply.started": "2022-11-02T20:41:13.916263Z"
    },
    "tags": []
   },
   "outputs": [
    {
     "data": {
      "application/vnd.jupyter.widget-view+json": {
       "model_id": "348c2a506b3747e398a88b3cf149f891",
       "version_major": 2,
       "version_minor": 0
      },
      "text/plain": [
       "VBox()"
      ]
     },
     "metadata": {},
     "output_type": "display_data"
    },
    {
     "data": {
      "application/vnd.jupyter.widget-view+json": {
       "model_id": "",
       "version_major": 2,
       "version_minor": 0
      },
      "text/plain": [
       "FloatProgress(value=0.0, bar_style='info', description='Progress:', layout=Layout(height='25px', width='50%'),…"
      ]
     },
     "metadata": {},
     "output_type": "display_data"
    }
   ],
   "source": [
    "(\n",
    "    df_ind_1\n",
    "    .write\n",
    "    .format('parquet')\n",
    "    .save('s3://puc-trabalho-final-processing-zone-104346215011/indicadores/indicador1')\n",
    ")\n",
    "\n",
    "(\n",
    "    df_ind_2\n",
    "    .write\n",
    "    .format('parquet')\n",
    "    .save('s3://puc-trabalho-final-processing-zone-104346215011/indicadores/indicador2')\n",
    ")\n",
    "\n",
    "(\n",
    "    df_ind_3\n",
    "    .write\n",
    "    .format('parquet')\n",
    "    .save('s3://puc-trabalho-final-processing-zone-104346215011/indicadores/indicador3')\n",
    ")"
   ]
  },
  {
   "cell_type": "code",
   "execution_count": null,
   "id": "cae1f26d-9bf0-4385-a12a-6cf2af5eabae",
   "metadata": {},
   "outputs": [],
   "source": [
    "df_ind_1.show()"
   ]
  },
  {
   "cell_type": "code",
   "execution_count": null,
   "id": "3ba1d32b",
   "metadata": {},
   "outputs": [],
   "source": [
    "df_ind_2.show()"
   ]
  },
  {
   "cell_type": "code",
   "execution_count": null,
   "id": "fdf81152",
   "metadata": {},
   "outputs": [],
   "source": [
    "df_ind_3.show()"
   ]
  }
 ],
 "metadata": {
  "kernelspec": {
   "display_name": "Python 3.10.4 64-bit",
   "language": "python",
   "name": "python3"
  },
  "language_info": {
   "codemirror_mode": {
    "name": "python",
    "version": 3
   },
   "file_extension": ".py",
   "mimetype": "text/x-python",
   "name": "python",
   "pygments_lexer": "python3",
   "version": "3.10.4"
  },
  "vscode": {
   "interpreter": {
    "hash": "54b5c02bac415170f398c1cb9c40d2712252a7d195ee8eb19ed147dda00b9728"
   }
  }
 },
 "nbformat": 4,
 "nbformat_minor": 5
}
