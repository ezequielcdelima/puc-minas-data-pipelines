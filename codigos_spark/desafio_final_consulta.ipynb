{
 "cells": [
  {
   "cell_type": "code",
   "execution_count": 1,
   "id": "dc814d1c-8ced-472c-abc4-95014aad016d",
   "metadata": {
    "execution": {
     "iopub.execute_input": "2022-11-12T22:21:48.268280Z",
     "iopub.status.busy": "2022-11-12T22:21:48.268049Z",
     "iopub.status.idle": "2022-11-12T22:22:44.690678Z",
     "shell.execute_reply": "2022-11-12T22:22:44.689882Z",
     "shell.execute_reply.started": "2022-11-12T22:21:48.268254Z"
    },
    "tags": []
   },
   "outputs": [
    {
     "data": {
      "application/vnd.jupyter.widget-view+json": {
       "model_id": "30661ec0eb2b47c6864c2926bade9cee",
       "version_major": 2,
       "version_minor": 0
      },
      "text/plain": [
       "VBox()"
      ]
     },
     "metadata": {},
     "output_type": "display_data"
    },
    {
     "name": "stdout",
     "output_type": "stream",
     "text": [
      "Starting Spark application\n"
     ]
    },
    {
     "data": {
      "text/html": [
       "<table>\n",
       "<tr><th>ID</th><th>YARN Application ID</th><th>Kind</th><th>State</th><th>Spark UI</th><th>Driver log</th><th>User</th><th>Current session?</th></tr><tr><td>0</td><td>application_1668291495316_0001</td><td>pyspark</td><td>idle</td><td><a target=\"_blank\" href=\"http://ip-172-31-9-42.ec2.internal:20888/proxy/application_1668291495316_0001/\" class=\"emr-proxy-link\" emr-resource=\"j-13MENP44AGYWS\n",
       "\" application-id=\"application_1668291495316_0001\">Link</a></td><td><a target=\"_blank\" href=\"http://ip-172-31-2-204.ec2.internal:8042/node/containerlogs/container_1668291495316_0001_01_000001/livy\" >Link</a></td><td>None</td><td>✔</td></tr></table>"
      ],
      "text/plain": [
       "<IPython.core.display.HTML object>"
      ]
     },
     "metadata": {},
     "output_type": "display_data"
    },
    {
     "data": {
      "application/vnd.jupyter.widget-view+json": {
       "model_id": "",
       "version_major": 2,
       "version_minor": 0
      },
      "text/plain": [
       "FloatProgress(value=0.0, bar_style='info', description='Progress:', layout=Layout(height='25px', width='50%'),…"
      ]
     },
     "metadata": {},
     "output_type": "display_data"
    },
    {
     "name": "stdout",
     "output_type": "stream",
     "text": [
      "SparkSession available as 'spark'.\n"
     ]
    },
    {
     "data": {
      "application/vnd.jupyter.widget-view+json": {
       "model_id": "",
       "version_major": 2,
       "version_minor": 0
      },
      "text/plain": [
       "FloatProgress(value=0.0, bar_style='info', description='Progress:', layout=Layout(height='25px', width='50%'),…"
      ]
     },
     "metadata": {},
     "output_type": "display_data"
    }
   ],
   "source": [
    "from pyspark.sql import functions as f"
   ]
  },
  {
   "cell_type": "code",
   "execution_count": 2,
   "id": "ed588f06-b4da-410c-acfe-fe1b2bdd7d6f",
   "metadata": {
    "execution": {
     "iopub.execute_input": "2022-11-12T22:22:44.702246Z",
     "iopub.status.busy": "2022-11-12T22:22:44.702018Z",
     "iopub.status.idle": "2022-11-12T22:22:54.056411Z",
     "shell.execute_reply": "2022-11-12T22:22:54.055678Z",
     "shell.execute_reply.started": "2022-11-12T22:22:44.702213Z"
    },
    "tags": []
   },
   "outputs": [
    {
     "data": {
      "application/vnd.jupyter.widget-view+json": {
       "model_id": "633ee5befc3c4cd4add31734944e8113",
       "version_major": 2,
       "version_minor": 0
      },
      "text/plain": [
       "VBox()"
      ]
     },
     "metadata": {},
     "output_type": "display_data"
    },
    {
     "data": {
      "application/vnd.jupyter.widget-view+json": {
       "model_id": "",
       "version_major": 2,
       "version_minor": 0
      },
      "text/plain": [
       "FloatProgress(value=0.0, bar_style='info', description='Progress:', layout=Layout(height='25px', width='50%'),…"
      ]
     },
     "metadata": {},
     "output_type": "display_data"
    },
    {
     "name": "stdout",
     "output_type": "stream",
     "text": [
      "+------+---------------+--------+---------------+-----------------------+------------------------------+\n",
      "|  sexo|    tipo_viagem|  classe|qtd_passageiros|media_idade_passageiros|media_satisfacao_servico_bordo|\n",
      "+------+---------------+--------+---------------+-----------------------+------------------------------+\n",
      "|Female|Personal Travel|Business|           1075|                  38.37|                          3.14|\n",
      "|Female|Personal Travel|Eco Plus|           1821|                  38.25|                          3.25|\n",
      "|Female|Business travel|Business|          23852|                  41.66|                           3.7|\n",
      "|Female|Business travel|Eco Plus|           2121|                  38.51|                          2.93|\n",
      "|Female|Business travel|     Eco|          10555|                   35.5|                          2.96|\n",
      "|Female|Personal Travel|     Eco|          13303|                  38.22|                          3.21|\n",
      "|  Male|Business travel|     Eco|           9702|                  35.93|                          2.85|\n",
      "|  Male|Business travel|Eco Plus|           1769|                  39.55|                          2.67|\n",
      "|  Male|Personal Travel|Business|           1082|                   38.4|                          3.15|\n",
      "|  Male|Business travel|Business|          23656|                  41.78|                          3.71|\n",
      "|  Male|Personal Travel|     Eco|          13185|                  38.34|                          3.35|\n",
      "|  Male|Personal Travel|Eco Plus|           1783|                  38.35|                          3.35|\n",
      "+------+---------------+--------+---------------+-----------------------+------------------------------+"
     ]
    }
   ],
   "source": [
    "(\n",
    "    spark\n",
    "    .read\n",
    "    .parquet(\"s3://puc-trabalho-final-processing-zone-104346215011/indicador-final/\")\n",
    ").show()"
   ]
  },
  {
   "cell_type": "code",
   "execution_count": null,
   "id": "0cb4f6f9-9d83-4818-944c-6a47c8d82049",
   "metadata": {},
   "outputs": [],
   "source": []
  }
 ],
 "metadata": {
  "kernelspec": {
   "display_name": "PySpark",
   "language": "python",
   "name": "pysparkkernel"
  },
  "language_info": {
   "codemirror_mode": {
    "name": "python",
    "version": 3
   },
   "file_extension": ".py",
   "mimetype": "text/x-python",
   "name": "pyspark",
   "pygments_lexer": "python3"
  }
 },
 "nbformat": 4,
 "nbformat_minor": 5
}
