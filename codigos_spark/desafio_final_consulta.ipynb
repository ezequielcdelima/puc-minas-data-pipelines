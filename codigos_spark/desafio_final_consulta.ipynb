{
 "cells": [
  {
   "cell_type": "code",
   "execution_count": 1,
   "id": "dc814d1c-8ced-472c-abc4-95014aad016d",
   "metadata": {
    "execution": {
     "iopub.execute_input": "2022-11-02T20:57:09.567803Z",
     "iopub.status.busy": "2022-11-02T20:57:09.567580Z",
     "iopub.status.idle": "2022-11-02T20:57:44.266482Z",
     "shell.execute_reply": "2022-11-02T20:57:44.265820Z",
     "shell.execute_reply.started": "2022-11-02T20:57:09.567777Z"
    },
    "tags": []
   },
   "outputs": [
    {
     "data": {
      "application/vnd.jupyter.widget-view+json": {
       "model_id": "200c4e9a87314eca9a68632af3e6ce39",
       "version_major": 2,
       "version_minor": 0
      },
      "text/plain": [
       "VBox()"
      ]
     },
     "metadata": {},
     "output_type": "display_data"
    },
    {
     "name": "stdout",
     "output_type": "stream",
     "text": [
      "Starting Spark application\n"
     ]
    },
    {
     "data": {
      "text/html": [
       "<table>\n",
       "<tr><th>ID</th><th>YARN Application ID</th><th>Kind</th><th>State</th><th>Spark UI</th><th>Driver log</th><th>User</th><th>Current session?</th></tr><tr><td>10</td><td>application_1667420043681_0011</td><td>pyspark</td><td>idle</td><td><a target=\"_blank\" href=\"http://ip-172-31-0-246.ec2.internal:20888/proxy/application_1667420043681_0011/\" class=\"emr-proxy-link\" emr-resource=\"j-X5I9DXS4WDDZ\n",
       "\" application-id=\"application_1667420043681_0011\">Link</a></td><td><a target=\"_blank\" href=\"http://ip-172-31-11-87.ec2.internal:8042/node/containerlogs/container_1667420043681_0011_01_000001/livy\" >Link</a></td><td>None</td><td>✔</td></tr></table>"
      ],
      "text/plain": [
       "<IPython.core.display.HTML object>"
      ]
     },
     "metadata": {},
     "output_type": "display_data"
    },
    {
     "data": {
      "application/vnd.jupyter.widget-view+json": {
       "model_id": "",
       "version_major": 2,
       "version_minor": 0
      },
      "text/plain": [
       "FloatProgress(value=0.0, bar_style='info', description='Progress:', layout=Layout(height='25px', width='50%'),…"
      ]
     },
     "metadata": {},
     "output_type": "display_data"
    },
    {
     "name": "stdout",
     "output_type": "stream",
     "text": [
      "SparkSession available as 'spark'.\n"
     ]
    },
    {
     "data": {
      "application/vnd.jupyter.widget-view+json": {
       "model_id": "",
       "version_major": 2,
       "version_minor": 0
      },
      "text/plain": [
       "FloatProgress(value=0.0, bar_style='info', description='Progress:', layout=Layout(height='25px', width='50%'),…"
      ]
     },
     "metadata": {},
     "output_type": "display_data"
    }
   ],
   "source": [
    "from pyspark.sql import functions as f"
   ]
  },
  {
   "cell_type": "code",
   "execution_count": 2,
   "id": "ed588f06-b4da-410c-acfe-fe1b2bdd7d6f",
   "metadata": {
    "execution": {
     "iopub.execute_input": "2022-11-02T20:57:49.392212Z",
     "iopub.status.busy": "2022-11-02T20:57:49.391982Z",
     "iopub.status.idle": "2022-11-02T20:58:00.726106Z",
     "shell.execute_reply": "2022-11-02T20:58:00.725358Z",
     "shell.execute_reply.started": "2022-11-02T20:57:49.392188Z"
    },
    "tags": []
   },
   "outputs": [
    {
     "data": {
      "application/vnd.jupyter.widget-view+json": {
       "model_id": "e11f0b347d3040b493b6bacc747f3d18",
       "version_major": 2,
       "version_minor": 0
      },
      "text/plain": [
       "VBox()"
      ]
     },
     "metadata": {},
     "output_type": "display_data"
    },
    {
     "data": {
      "application/vnd.jupyter.widget-view+json": {
       "model_id": "",
       "version_major": 2,
       "version_minor": 0
      },
      "text/plain": [
       "FloatProgress(value=0.0, bar_style='info', description='Progress:', layout=Layout(height='25px', width='50%'),…"
      ]
     },
     "metadata": {},
     "output_type": "display_data"
    },
    {
     "name": "stdout",
     "output_type": "stream",
     "text": [
      "+------+---------------+--------+-------------------------------+---------------------------------+------------------------------+\n",
      "|  sexo|    tipo_viagem|  classe|media_satisfacao_reserva_online|media_satisfacao_conforto_assento|media_satisfacao_servico_bordo|\n",
      "+------+---------------+--------+-------------------------------+---------------------------------+------------------------------+\n",
      "|Female|Personal Travel|Business|                           2.57|                              3.5|                          3.14|\n",
      "|Female|Personal Travel|Eco Plus|                           2.44|                              3.4|                          3.25|\n",
      "|Female|Business travel|Business|                           2.92|                             3.77|                           3.7|\n",
      "|Female|Business travel|Eco Plus|                            2.8|                             3.12|                          2.93|\n",
      "|Female|Business travel|     Eco|                           2.76|                             3.07|                          2.96|\n",
      "|Female|Personal Travel|     Eco|                           2.47|                             3.33|                          3.21|\n",
      "|  Male|Business travel|     Eco|                           2.79|                             3.12|                          2.85|\n",
      "|  Male|Business travel|Eco Plus|                           2.92|                              3.2|                          2.67|\n",
      "|  Male|Personal Travel|Business|                           2.52|                             3.43|                          3.15|\n",
      "|  Male|Business travel|Business|                           2.94|                             3.78|                          3.71|\n",
      "|  Male|Personal Travel|     Eco|                           2.48|                             3.01|                          3.35|\n",
      "|  Male|Personal Travel|Eco Plus|                           2.47|                             3.03|                          3.35|\n",
      "+------+---------------+--------+-------------------------------+---------------------------------+------------------------------+"
     ]
    }
   ],
   "source": [
    "(\n",
    "    spark\n",
    "    .read\n",
    "    .parquet(\"s3://puc-trabalho-final-processing-zone-104346215011/indicador-final/\")\n",
    ").show()"
   ]
  },
  {
   "cell_type": "code",
   "execution_count": null,
   "id": "0cb4f6f9-9d83-4818-944c-6a47c8d82049",
   "metadata": {},
   "outputs": [],
   "source": []
  }
 ],
 "metadata": {
  "kernelspec": {
   "display_name": "PySpark",
   "language": "python",
   "name": "pysparkkernel"
  },
  "language_info": {
   "codemirror_mode": {
    "name": "python",
    "version": 3
   },
   "file_extension": ".py",
   "mimetype": "text/x-python",
   "name": "pyspark",
   "pygments_lexer": "python3"
  }
 },
 "nbformat": 4,
 "nbformat_minor": 5
}
