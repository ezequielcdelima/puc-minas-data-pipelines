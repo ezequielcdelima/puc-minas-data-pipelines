{
 "cells": [
  {
   "cell_type": "code",
   "execution_count": 1,
   "id": "571ff601-f007-4c17-bad2-f58c85183716",
   "metadata": {
    "execution": {
     "iopub.execute_input": "2022-11-02T20:54:55.508789Z",
     "iopub.status.busy": "2022-11-02T20:54:55.508477Z",
     "iopub.status.idle": "2022-11-02T20:55:30.166886Z",
     "shell.execute_reply": "2022-11-02T20:55:30.166188Z",
     "shell.execute_reply.started": "2022-11-02T20:54:55.508751Z"
    },
    "tags": []
   },
   "outputs": [
    {
     "data": {
      "application/vnd.jupyter.widget-view+json": {
       "model_id": "e4a62bba5c284e3a98dd32ead445dc8e",
       "version_major": 2,
       "version_minor": 0
      },
      "text/plain": [
       "VBox()"
      ]
     },
     "metadata": {},
     "output_type": "display_data"
    },
    {
     "name": "stdout",
     "output_type": "stream",
     "text": [
      "Starting Spark application\n"
     ]
    },
    {
     "data": {
      "text/html": [
       "<table>\n",
       "<tr><th>ID</th><th>YARN Application ID</th><th>Kind</th><th>State</th><th>Spark UI</th><th>Driver log</th><th>User</th><th>Current session?</th></tr><tr><td>9</td><td>application_1667420043681_0010</td><td>pyspark</td><td>idle</td><td><a target=\"_blank\" href=\"http://ip-172-31-0-246.ec2.internal:20888/proxy/application_1667420043681_0010/\" class=\"emr-proxy-link\" emr-resource=\"j-X5I9DXS4WDDZ\n",
       "\" application-id=\"application_1667420043681_0010\">Link</a></td><td><a target=\"_blank\" href=\"http://ip-172-31-11-87.ec2.internal:8042/node/containerlogs/container_1667420043681_0010_01_000001/livy\" >Link</a></td><td>None</td><td>✔</td></tr></table>"
      ],
      "text/plain": [
       "<IPython.core.display.HTML object>"
      ]
     },
     "metadata": {},
     "output_type": "display_data"
    },
    {
     "data": {
      "application/vnd.jupyter.widget-view+json": {
       "model_id": "",
       "version_major": 2,
       "version_minor": 0
      },
      "text/plain": [
       "FloatProgress(value=0.0, bar_style='info', description='Progress:', layout=Layout(height='25px', width='50%'),…"
      ]
     },
     "metadata": {},
     "output_type": "display_data"
    },
    {
     "name": "stdout",
     "output_type": "stream",
     "text": [
      "SparkSession available as 'spark'.\n"
     ]
    },
    {
     "data": {
      "application/vnd.jupyter.widget-view+json": {
       "model_id": "",
       "version_major": 2,
       "version_minor": 0
      },
      "text/plain": [
       "FloatProgress(value=0.0, bar_style='info', description='Progress:', layout=Layout(height='25px', width='50%'),…"
      ]
     },
     "metadata": {},
     "output_type": "display_data"
    }
   ],
   "source": [
    "from pyspark.sql import functions as f"
   ]
  },
  {
   "cell_type": "code",
   "execution_count": 2,
   "id": "ca6f244b-b390-41aa-9dd8-0622cedaeaab",
   "metadata": {
    "execution": {
     "iopub.execute_input": "2022-11-02T20:55:37.122651Z",
     "iopub.status.busy": "2022-11-02T20:55:37.122419Z",
     "iopub.status.idle": "2022-11-02T20:55:44.435699Z",
     "shell.execute_reply": "2022-11-02T20:55:44.434871Z",
     "shell.execute_reply.started": "2022-11-02T20:55:37.122627Z"
    },
    "tags": []
   },
   "outputs": [
    {
     "data": {
      "application/vnd.jupyter.widget-view+json": {
       "model_id": "b69001136d414faf9bbbd5c4e51b8b1c",
       "version_major": 2,
       "version_minor": 0
      },
      "text/plain": [
       "VBox()"
      ]
     },
     "metadata": {},
     "output_type": "display_data"
    },
    {
     "data": {
      "application/vnd.jupyter.widget-view+json": {
       "model_id": "",
       "version_major": 2,
       "version_minor": 0
      },
      "text/plain": [
       "FloatProgress(value=0.0, bar_style='info', description='Progress:', layout=Layout(height='25px', width='50%'),…"
      ]
     },
     "metadata": {},
     "output_type": "display_data"
    }
   ],
   "source": [
    "df_indi_result_1 = (\n",
    "    spark\n",
    "    .read\n",
    "    .parquet(\"s3://puc-trabalho-final-processing-zone-104346215011/indicadores/indicador1\")\n",
    ")"
   ]
  },
  {
   "cell_type": "code",
   "execution_count": 3,
   "id": "1b359e37-3479-4116-9a7b-49f111a0f809",
   "metadata": {
    "execution": {
     "iopub.execute_input": "2022-11-02T20:55:56.433770Z",
     "iopub.status.busy": "2022-11-02T20:55:56.433540Z",
     "iopub.status.idle": "2022-11-02T20:55:57.204418Z",
     "shell.execute_reply": "2022-11-02T20:55:57.203283Z",
     "shell.execute_reply.started": "2022-11-02T20:55:56.433745Z"
    },
    "tags": []
   },
   "outputs": [
    {
     "data": {
      "application/vnd.jupyter.widget-view+json": {
       "model_id": "3b7e3cb2243b4fa5b346f6a4850a6951",
       "version_major": 2,
       "version_minor": 0
      },
      "text/plain": [
       "VBox()"
      ]
     },
     "metadata": {},
     "output_type": "display_data"
    },
    {
     "data": {
      "application/vnd.jupyter.widget-view+json": {
       "model_id": "",
       "version_major": 2,
       "version_minor": 0
      },
      "text/plain": [
       "FloatProgress(value=0.0, bar_style='info', description='Progress:', layout=Layout(height='25px', width='50%'),…"
      ]
     },
     "metadata": {},
     "output_type": "display_data"
    }
   ],
   "source": [
    "df_indi_result_2 = (\n",
    "    spark\n",
    "    .read\n",
    "    .parquet(\"s3://puc-trabalho-final-processing-zone-104346215011/indicadores/indicador2\")\n",
    ")"
   ]
  },
  {
   "cell_type": "code",
   "execution_count": 4,
   "id": "a51f6008-8fe5-45b5-943c-6f383affedbe",
   "metadata": {
    "execution": {
     "iopub.execute_input": "2022-11-02T20:56:00.588015Z",
     "iopub.status.busy": "2022-11-02T20:56:00.587783Z",
     "iopub.status.idle": "2022-11-02T20:56:01.361733Z",
     "shell.execute_reply": "2022-11-02T20:56:01.360949Z",
     "shell.execute_reply.started": "2022-11-02T20:56:00.587988Z"
    },
    "tags": []
   },
   "outputs": [
    {
     "data": {
      "application/vnd.jupyter.widget-view+json": {
       "model_id": "125e631242c24ae582b2b3201e5296ba",
       "version_major": 2,
       "version_minor": 0
      },
      "text/plain": [
       "VBox()"
      ]
     },
     "metadata": {},
     "output_type": "display_data"
    },
    {
     "data": {
      "application/vnd.jupyter.widget-view+json": {
       "model_id": "",
       "version_major": 2,
       "version_minor": 0
      },
      "text/plain": [
       "FloatProgress(value=0.0, bar_style='info', description='Progress:', layout=Layout(height='25px', width='50%'),…"
      ]
     },
     "metadata": {},
     "output_type": "display_data"
    }
   ],
   "source": [
    "df_indi_result_3 = (\n",
    "    spark\n",
    "    .read\n",
    "    .parquet(\"s3://puc-trabalho-final-processing-zone-104346215011/indicadores/indicador3\")\n",
    ")"
   ]
  },
  {
   "cell_type": "code",
   "execution_count": 5,
   "id": "23a840ea-5f80-49a2-ba38-6aa727bafb45",
   "metadata": {
    "execution": {
     "iopub.execute_input": "2022-11-02T20:56:02.766687Z",
     "iopub.status.busy": "2022-11-02T20:56:02.766442Z",
     "iopub.status.idle": "2022-11-02T20:56:03.094022Z",
     "shell.execute_reply": "2022-11-02T20:56:03.093209Z",
     "shell.execute_reply.started": "2022-11-02T20:56:02.766655Z"
    },
    "tags": []
   },
   "outputs": [
    {
     "data": {
      "application/vnd.jupyter.widget-view+json": {
       "model_id": "99e5b9c0178b43c981e515d983252143",
       "version_major": 2,
       "version_minor": 0
      },
      "text/plain": [
       "VBox()"
      ]
     },
     "metadata": {},
     "output_type": "display_data"
    },
    {
     "data": {
      "application/vnd.jupyter.widget-view+json": {
       "model_id": "",
       "version_major": 2,
       "version_minor": 0
      },
      "text/plain": [
       "FloatProgress(value=0.0, bar_style='info', description='Progress:', layout=Layout(height='25px', width='50%'),…"
      ]
     },
     "metadata": {},
     "output_type": "display_data"
    }
   ],
   "source": [
    "df_final = (\n",
    "    df_indi_result_1\n",
    "    .join(df_indi_result_2, how ='inner', on=['sexo', 'tipo_viagem', 'classe'])\n",
    ")\n",
    "\n",
    "df_final = (\n",
    "    df_final\n",
    "    .join(df_indi_result_3, how ='inner', on=['sexo', 'tipo_viagem', 'classe'])\n",
    ")"
   ]
  },
  {
   "cell_type": "code",
   "execution_count": 6,
   "id": "f7b8cf7c-fd70-48c8-bcfd-ebe0902de213",
   "metadata": {
    "execution": {
     "iopub.execute_input": "2022-11-02T20:56:05.235347Z",
     "iopub.status.busy": "2022-11-02T20:56:05.235129Z",
     "iopub.status.idle": "2022-11-02T20:56:10.544922Z",
     "shell.execute_reply": "2022-11-02T20:56:10.544176Z",
     "shell.execute_reply.started": "2022-11-02T20:56:05.235322Z"
    },
    "tags": []
   },
   "outputs": [
    {
     "data": {
      "application/vnd.jupyter.widget-view+json": {
       "model_id": "aa45eef8e251454d851b9c3ede8a0dae",
       "version_major": 2,
       "version_minor": 0
      },
      "text/plain": [
       "VBox()"
      ]
     },
     "metadata": {},
     "output_type": "display_data"
    },
    {
     "data": {
      "application/vnd.jupyter.widget-view+json": {
       "model_id": "",
       "version_major": 2,
       "version_minor": 0
      },
      "text/plain": [
       "FloatProgress(value=0.0, bar_style='info', description='Progress:', layout=Layout(height='25px', width='50%'),…"
      ]
     },
     "metadata": {},
     "output_type": "display_data"
    }
   ],
   "source": [
    "(\n",
    "    df_final\n",
    "    .write\n",
    "    .format('parquet')\n",
    "    .save('s3://puc-trabalho-final-processing-zone-104346215011/indicador-final/')\n",
    ")"
   ]
  },
  {
   "cell_type": "code",
   "execution_count": null,
   "id": "c323d642-7b1a-46d8-832f-fd4b3dd328d0",
   "metadata": {},
   "outputs": [],
   "source": []
  }
 ],
 "metadata": {
  "kernelspec": {
   "display_name": "PySpark",
   "language": "python",
   "name": "pysparkkernel"
  },
  "language_info": {
   "codemirror_mode": {
    "name": "python",
    "version": 3
   },
   "file_extension": ".py",
   "mimetype": "text/x-python",
   "name": "pyspark",
   "pygments_lexer": "python3"
  }
 },
 "nbformat": 4,
 "nbformat_minor": 5
}
